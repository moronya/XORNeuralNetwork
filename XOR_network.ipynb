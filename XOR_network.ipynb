{
  "nbformat": 4,
  "nbformat_minor": 0,
  "metadata": {
    "colab": {
      "provenance": []
    },
    "kernelspec": {
      "name": "python3",
      "display_name": "Python 3"
    },
    "language_info": {
      "name": "python"
    }
  },
  "cells": [
    {
      "cell_type": "code",
      "execution_count": null,
      "metadata": {
        "id": "dNlfAfEemKC-"
      },
      "outputs": [],
      "source": [
        "import numpy as np\n",
        "import matplotlib.pyplot as plt"
      ]
    },
    {
      "cell_type": "code",
      "source": [
        "# XOR inputs\n",
        "x_inputs = np.array([[0, 0, 1, 1], [0, 1, 0, 1]])\n",
        "# XOR outputs\n",
        "y_outputs = np.array([0, 1, 1, 0])\n",
        "# Number of inputs\n",
        "n_x = 2\n",
        "# Number of neurons in the output layer\n",
        "n_y = 1\n",
        "# Number of neurons in the hidden layer\n",
        "n_h = 2\n",
        "# Total training examples\n",
        "m = x_inputs.shape[1]\n",
        "# Specify the learning rate\n",
        "learningRate = 0.1\n",
        "# Define random seed for consistent results\n",
        "np.random.seed(2)\n",
        "# Define weight matrices for neural network\n",
        "w1 = np.random.rand(n_h, n_x) # Weight matrix for the hidden layer\n",
        "w2 = np.random.rand(n_y, n_h) # Weight matrix for the output layer\n",
        "# Define a list to accumulate losses\n",
        "losses = []\n"
      ],
      "metadata": {
        "id": "NzdS16Aome2P"
      },
      "execution_count": null,
      "outputs": []
    },
    {
      "cell_type": "code",
      "source": [
        "# use sigmoid activation function for hidden layer and output\n",
        "def sigmoid(z):\n",
        "  z = 1/(1+np.exp(-z))\n",
        "  return z\n",
        "\n",
        "# Forward propagation\n",
        "def forward_propagation(w1, w2, x_inputs):\n",
        "  z1 = np.dot(w1, x_inputs)\n",
        "  a1 = sigmoid(z1)\n",
        "  z2 = np.dot(w2, a1)\n",
        "  a2 = sigmoid(z2)\n",
        "  return z1, a1, z2, a2\n",
        "\n",
        "# Backward propagation\n",
        "def back_propagation(m, w1, w2, z1, a1, z2, a2, y):\n",
        "  dz2 = a2 - y\n",
        "  dw2 = np.dot(dz2, a1.T)/m\n",
        "  dz1 = np.dot(w2.T, dz2) * a1*(1-a1)\n",
        "  dw1 = np.dot(dz1, x_inputs.T)/m\n",
        "  dw1 = np.reshape(dw1, w1.shape)\n",
        "  dw2 = np.reshape(dw2, w2.shape)\n",
        "  return dz2, dw2, dz1, dw1"
      ],
      "metadata": {
        "id": "GMJkDkRUoSkY"
      },
      "execution_count": null,
      "outputs": []
    },
    {
      "cell_type": "code",
      "source": [
        "iterations = 10000\n",
        "for i in range(iterations):\n",
        "  z1, a1, z2, a2 = forward_propagation(w1, w2, x_inputs)\n",
        "  loss = -(1/m)*np.sum(y_outputs*np.log(a2)+(1-y_outputs)*np.log(1-a2))\n",
        "  losses.append(loss)\n",
        "  da2, dw2, dz1, dw1 = back_propagation(m, w1, w2, z1, a1, z2, a2, y_outputs)\n",
        "  w2 = w2 - learningRate*dw2\n",
        "  w1 = w1 - learningRate*dw1\n",
        "\n",
        "# Plot lossess to see how the network is doing. \n",
        "plt.plot(losses)\n",
        "plt.xlabel(\"EPOCHS\")\n",
        "plt.ylabel(\"Loss value\")"
      ],
      "metadata": {
        "colab": {
          "base_uri": "https://localhost:8080/",
          "height": 296
        },
        "id": "YD0CCGo6rO-x",
        "outputId": "4d5d8125-6126-4053-cc39-879a8fd3c75f"
      },
      "execution_count": null,
      "outputs": [
        {
          "output_type": "execute_result",
          "data": {
            "text/plain": [
              "Text(0, 0.5, 'Loss value')"
            ]
          },
          "metadata": {},
          "execution_count": 5
        },
        {
          "output_type": "display_data",
          "data": {
            "text/plain": [
              "<Figure size 432x288 with 1 Axes>"
            ],
            "image/png": "[encoded data removed]"
          },
          "metadata": {
            "needs_background": "light"
          }
        }
      ]
    },
    {
      "cell_type": "code",
      "source": [
        "test = np.array([[1],[0]])\n",
        "predict(w1,w2,test)\n",
        "test = np.array([[0],[0]])\n",
        "predict(w1,w2,test)\n",
        "test = np.array([[0],[1]])\n",
        "predict(w1,w2,test)\n",
        "test = np.array([[1],[1]])\n",
        "predict(w1,w2,test)"
      ],
      "metadata": {
        "colab": {
          "base_uri": "https://localhost:8080/"
        },
        "id": "o_i_RrEtuo3C",
        "outputId": "61c831fa-4123-436e-d1e3-00da26d04cdb"
      },
      "execution_count": null,
      "outputs": [
        {
          "output_type": "stream",
          "name": "stdout",
          "text": [
            "For input [1, 0] output is 1\n",
            "For input [0, 0] output is 0\n",
            "For input [0, 1] output is 1\n",
            "For input [1, 1] output is 0\n"
          ]
        }
      ]
    },
    {
      "cell_type": "code",
      "source": [
        "def predict(w1, w2, input):\n",
        "  z1, a1, z2, a2 = forward_propagation(w1, w2, test)\n",
        "  a2 = np.squeeze(a2)\n",
        "  if a2 >= 0.5:\n",
        "    print(\"For input\", [i[0] for i in input], \"output is 1\")# ['{:.2f}'.format(i) for i in x])\n",
        "  else:\n",
        "    print(\"For input\", [i[0] for i in input], \"output is 0\")\n",
        "\n"
      ],
      "metadata": {
        "id": "IEwrQGj-s_aP"
      },
      "execution_count": null,
      "outputs": []
    }
  ]
}